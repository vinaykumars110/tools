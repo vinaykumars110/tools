{
  "nbformat": 4,
  "nbformat_minor": 0,
  "metadata": {
    "colab": {
      "name": "Untitled5.ipynb",
      "provenance": [],
      "authorship_tag": "ABX9TyNywq11mDJjsBJEn5qH0zuF",
      "include_colab_link": true
    },
    "kernelspec": {
      "name": "python3",
      "display_name": "Python 3"
    },
    "language_info": {
      "name": "python"
    }
  },
  "cells": [
    {
      "cell_type": "markdown",
      "metadata": {
        "id": "view-in-github",
        "colab_type": "text"
      },
      "source": [
        "<a href=\"https://colab.research.google.com/github/vinaykumars110/tools/blob/master/time_ranges.ipynb\" target=\"_parent\"><img src=\"https://colab.research.google.com/assets/colab-badge.svg\" alt=\"Open In Colab\"/></a>"
      ]
    },
    {
      "cell_type": "code",
      "metadata": {
        "id": "WGawE3eGXLur"
      },
      "source": [
        "# Your last Plain Text code is saved below:\n",
        "# You are given a list of time periods where a time period is represented as [startTimeInMinutes, endTimeInMinutes]. \n",
        "# The goal is to find all the time period(s) that are missing in the 24 hour(0 - 1440 minutes) range.\n",
        "\n",
        "# Example 1:\n",
        "# \tinput: [[0, 200],[200,400],[600,1440]]\n",
        "# \toutput: [[400, 600]]\n",
        "# Example 2:\n",
        "# \tinput: [[0,300], [400, 500], [200, 500], [750, 1000], [1240, 1440]]\n",
        "# \toutput: [[500, 750], [1000, 1240]]\n",
        "# Example 3:\n",
        "# \tinput: [[100, 300], [200, 500], [400, 450], [750, 1000], [1240, 1400]]\n",
        "# \toutput: [[0, 100] [500, 750] [1000, 1240] [1400, 1440]]\n",
        "# Example 4:\n",
        "# \tinput: []\n",
        "# \toutput: [[0, 1440]]\n",
        "\n",
        "\n",
        "# Constraints:\n",
        "# 0 <= startTimeInMinutes <= 1440\n",
        "# 0 <= endTimeInMinutes <= 1440\n"
      ],
      "execution_count": 1,
      "outputs": []
    },
    {
      "cell_type": "code",
      "metadata": {
        "id": "1V2K9SfThlP8"
      },
      "source": [
        "def get_missing_periods (in_list_sorted):\n",
        "  in_list_sorted.sort()\n",
        "  #print(in_list_sorted)\n",
        "  missing_ranges = []\n",
        "  \n",
        "  cur_missing_st_time = 0\n",
        "  cur_missing_end_time = 0\n",
        "  for i in range(0,len(in_list_sorted)):\n",
        "    #print(i)\n",
        "    #print(cur_missing_st_time)\n",
        "    # Assign loop variables\n",
        "    cur_st_time = in_list_sorted[i][0]\n",
        "    cur_end_time = in_list_sorted[i][1]\n",
        "\n",
        "    if (cur_st_time > cur_missing_st_time):\n",
        "      missing_ranges.append([cur_missing_st_time,cur_st_time])\n",
        "      #print(missing_ranges)\n",
        "    \n",
        "    cur_missing_st_time = cur_end_time if (cur_end_time > cur_missing_st_time) else cur_missing_st_time\n",
        "\n",
        "  if (1440 > cur_missing_st_time):\n",
        "    missing_ranges.append([cur_missing_st_time,1440])\n",
        "\n",
        "  return missing_ranges\n",
        "  "
      ],
      "execution_count": 49,
      "outputs": []
    },
    {
      "cell_type": "code",
      "metadata": {
        "colab": {
          "base_uri": "https://localhost:8080/"
        },
        "id": "BHaJKEk22lX6",
        "outputId": "b2c3f3c6-777a-4611-ff06-3ce49015078c"
      },
      "source": [
        "get_missing_periods([[0, 200],[200,400],[600,1440]])"
      ],
      "execution_count": 50,
      "outputs": [
        {
          "output_type": "execute_result",
          "data": {
            "text/plain": [
              "[[400, 600]]"
            ]
          },
          "metadata": {
            "tags": []
          },
          "execution_count": 50
        }
      ]
    },
    {
      "cell_type": "code",
      "metadata": {
        "colab": {
          "base_uri": "https://localhost:8080/"
        },
        "id": "QsoYZIcu24VZ",
        "outputId": "26006ddb-b49b-4341-fd1b-ae0fa0d9d879"
      },
      "source": [
        "get_missing_periods([[0,300], [400, 500], [200, 500], [750, 1000], [1240, 1440]])"
      ],
      "execution_count": 51,
      "outputs": [
        {
          "output_type": "execute_result",
          "data": {
            "text/plain": [
              "[[500, 750], [1000, 1240]]"
            ]
          },
          "metadata": {
            "tags": []
          },
          "execution_count": 51
        }
      ]
    },
    {
      "cell_type": "code",
      "metadata": {
        "colab": {
          "base_uri": "https://localhost:8080/"
        },
        "id": "zkfLcuyC3oX1",
        "outputId": "0f9a3baf-b0d0-4d73-9013-b67544b4ddc7"
      },
      "source": [
        "get_missing_periods([[100, 300], [200, 500], [400, 450], [750, 1000], [1240, 1400]])"
      ],
      "execution_count": 52,
      "outputs": [
        {
          "output_type": "execute_result",
          "data": {
            "text/plain": [
              "[[0, 100], [500, 750], [1000, 1240], [1400, 1440]]"
            ]
          },
          "metadata": {
            "tags": []
          },
          "execution_count": 52
        }
      ]
    },
    {
      "cell_type": "code",
      "metadata": {
        "id": "o89ADSKy5B8F"
      },
      "source": [
        ""
      ],
      "execution_count": null,
      "outputs": []
    }
  ]
}